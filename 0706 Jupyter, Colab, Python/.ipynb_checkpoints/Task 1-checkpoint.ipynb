{
 "cells": [
  {
   "cell_type": "markdown",
   "id": "0e1ccdba",
   "metadata": {},
   "source": [
    "## 과제 1번"
   ]
  },
  {
   "cell_type": "code",
   "execution_count": 15,
   "id": "cab229da",
   "metadata": {},
   "outputs": [],
   "source": [
    "import numpy as np"
   ]
  },
  {
   "cell_type": "markdown",
   "id": "1fda594e",
   "metadata": {},
   "source": [
    "버블 정렬"
   ]
  },
  {
   "cell_type": "code",
   "execution_count": 16,
   "id": "0c00bb31",
   "metadata": {},
   "outputs": [],
   "source": [
    "def bubblesort(num_tuple):\n",
    "    arr = np.array(num_tuple)\n",
    "    rep = len(arr)-1\n",
    "    \n",
    "    for i in range(0,rep):\n",
    "        for j in range(0,rep-i):\n",
    "            if arr[j]>arr[j+1]:\n",
    "                temp = arr[j]\n",
    "                arr[j] = arr[j+1]\n",
    "                arr[j+1] = temp\n",
    "    return arr"
   ]
  },
  {
   "cell_type": "markdown",
   "id": "657b6b52",
   "metadata": {},
   "source": [
    "퀵 정렬"
   ]
  },
  {
   "cell_type": "code",
   "execution_count": 14,
   "id": "b8b1234d",
   "metadata": {},
   "outputs": [],
   "source": [
    "def quicksort(num_tuple):\n",
    "\n",
    "  arr = list(num_tuple)\n",
    "  start, end = 0, len(arr) - 1\n",
    "  pivot = start\n",
    "  left, right = start+1, end\n",
    "\n",
    "  def quick(arr, L, R):\n",
    "\n",
    "    if L >= R:\n",
    "      return\n",
    "\n",
    "    pivot = L\n",
    "    left, right = L+1, R\n",
    "\n",
    "    ##print(\"pivot_val : \", arr[pivot])\n",
    "    ##print(\"left_pos  : \", left)\n",
    "    ##print(\"right_pos : \", right)\n",
    "\n",
    "    while left <= right:\n",
    "      ##print(\"init_arr  : \",arr)\n",
    "      while left < R and arr[left] < arr[pivot]:\n",
    "        left += 1\n",
    "        ##print(\"left_val  : \", arr[left])\n",
    "      while right > L and arr[right] >= arr[pivot]:\n",
    "        right -= 1\n",
    "        ##print(\"right_val : \", arr[right])\n",
    "      if left < right:\n",
    "        ##print(\"swap left \",arr[left],\" and swap right \",arr[right])\n",
    "        arr[left], arr[right] = arr[right], arr[left]\n",
    "      else:\n",
    "        arr[right], arr[pivot] = arr[pivot], arr[right]\n",
    "        ##print(\"new_div   : \", arr[right])\n",
    "\n",
    "    ##print(\"resu_arr  : \", arr)\n",
    "    ##print(arr[:right])\n",
    "    ##print(arr[right+1:])\n",
    "\n",
    "    quick(arr,L,right-1)\n",
    "    quick(arr,right+1,R)\n",
    "\n",
    "  quick(arr,start,end)\n",
    "  return arr"
   ]
  },
  {
   "cell_type": "markdown",
   "id": "40b87948",
   "metadata": {},
   "source": [
    "정렬 테스트"
   ]
  },
  {
   "cell_type": "code",
   "execution_count": 19,
   "id": "bd048a18",
   "metadata": {},
   "outputs": [
    {
     "name": "stdout",
     "output_type": "stream",
     "text": [
      "[1 3 4]\n",
      "[1 3 4]\n"
     ]
    }
   ],
   "source": [
    "tup1 = (3,4,1)\n",
    "print(bubblesort(tup1))\n",
    "print(np.array(quicksort(tup1)))"
   ]
  },
  {
   "cell_type": "markdown",
   "id": "a123cf6a",
   "metadata": {},
   "source": [
    "후기: 다른 정렬 알고리즘도 시도해보려고 했지만 퀵 정렬 구현 과정에 시간을 너무 쏟아버려서 아쉽게도 못했습니다.\n",
    "나중에 여유 있을 때 혼자 더 해보려구요 ㅎㅎ"
   ]
  }
 ],
 "metadata": {
  "kernelspec": {
   "display_name": "Python 3 (ipykernel)",
   "language": "python",
   "name": "python3"
  },
  "language_info": {
   "codemirror_mode": {
    "name": "ipython",
    "version": 3
   },
   "file_extension": ".py",
   "mimetype": "text/x-python",
   "name": "python",
   "nbconvert_exporter": "python",
   "pygments_lexer": "ipython3",
   "version": "3.9.12"
  }
 },
 "nbformat": 4,
 "nbformat_minor": 5
}

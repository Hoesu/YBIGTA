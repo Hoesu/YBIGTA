{
 "cells": [
  {
   "cell_type": "markdown",
   "id": "0e1ccdba",
   "metadata": {},
   "source": [
    "## 과제 1번"
   ]
  },
  {
   "cell_type": "code",
   "execution_count": 1,
   "id": "cab229da",
   "metadata": {},
   "outputs": [],
   "source": [
    "import numpy as np\n",
    "import pandas as pd"
   ]
  },
  {
   "cell_type": "code",
   "execution_count": 22,
   "id": "f8231b39",
   "metadata": {},
   "outputs": [],
   "source": [
    "num_tuple = (5,4,3,2,1,2,3,6,1,2,5,7,3,4,4,1)"
   ]
  },
  {
   "cell_type": "code",
   "execution_count": 25,
   "id": "0c00bb31",
   "metadata": {},
   "outputs": [],
   "source": [
    "## 버블 정렬\n",
    "def bubblesort(num_tuple):\n",
    "    arr = np.array(num_tuple)\n",
    "    rep = len(arr)-1\n",
    "    \n",
    "    for i in range(0,rep):\n",
    "        for j in range(0,rep-i):\n",
    "            if arr[j]>arr[j+1]:\n",
    "                temp = arr[j]\n",
    "                arr[j] = arr[j+1]\n",
    "                arr[j+1] = temp\n",
    "    return arr"
   ]
  },
  {
   "cell_type": "code",
   "execution_count": 26,
   "id": "933098ac",
   "metadata": {},
   "outputs": [],
   "source": [
    "## 삽입 정렬"
   ]
  },
  {
   "cell_type": "code",
   "execution_count": 27,
   "id": "f68ca967",
   "metadata": {},
   "outputs": [],
   "source": [
    "## 퀵 정렬"
   ]
  },
  {
   "cell_type": "code",
   "execution_count": null,
   "id": "7f15b8dc",
   "metadata": {},
   "outputs": [],
   "source": []
  }
 ],
 "metadata": {
  "kernelspec": {
   "display_name": "Python 3 (ipykernel)",
   "language": "python",
   "name": "python3"
  },
  "language_info": {
   "codemirror_mode": {
    "name": "ipython",
    "version": 3
   },
   "file_extension": ".py",
   "mimetype": "text/x-python",
   "name": "python",
   "nbconvert_exporter": "python",
   "pygments_lexer": "ipython3",
   "version": "3.9.12"
  }
 },
 "nbformat": 4,
 "nbformat_minor": 5
}

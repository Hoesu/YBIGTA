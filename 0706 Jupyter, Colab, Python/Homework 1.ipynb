import numpy as np
import pandas as pd

num_tuple = (5,4,3,2,1,2,3,6,1,2,5,7,3,4,4,1)

def bubblesort(num_tuple):
    arr = np.array(num_tuple)
    rep = len(arr)-1
    
    for i in range(0,rep):
        for j in range(0,rep-i):
            if arr[j]>arr[j+1]:
                temp = arr[j]
                arr[j] = arr[j+1]
                arr[j+1] = temp
    return arr

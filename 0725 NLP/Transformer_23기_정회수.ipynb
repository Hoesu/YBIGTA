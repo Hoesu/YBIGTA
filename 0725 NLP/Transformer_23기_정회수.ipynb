{
  "nbformat": 4,
  "nbformat_minor": 0,
  "metadata": {
    "colab": {
      "provenance": [],
      "gpuType": "T4"
    },
    "kernelspec": {
      "name": "python3",
      "display_name": "Python 3"
    },
    "language_info": {
      "name": "python"
    },
    "accelerator": "GPU",
    "widgets": {
      "application/vnd.jupyter.widget-state+json": {
        "698d31f085b646ab80c8239b7579dbfe": {
          "model_module": "@jupyter-widgets/controls",
          "model_name": "HBoxModel",
          "model_module_version": "1.5.0",
          "state": {
            "_dom_classes": [],
            "_model_module": "@jupyter-widgets/controls",
            "_model_module_version": "1.5.0",
            "_model_name": "HBoxModel",
            "_view_count": null,
            "_view_module": "@jupyter-widgets/controls",
            "_view_module_version": "1.5.0",
            "_view_name": "HBoxView",
            "box_style": "",
            "children": [
              "IPY_MODEL_bbd6bdaafb8b4a74bc0146c4e6d6c590",
              "IPY_MODEL_275e77fa290c4adeb4ea413f00c077e4",
              "IPY_MODEL_00d18ab3abfa4491ac5d8ba36f506a7d"
            ],
            "layout": "IPY_MODEL_59ab6326eb8a40f3ab554ffe040a147b"
          }
        },
        "bbd6bdaafb8b4a74bc0146c4e6d6c590": {
          "model_module": "@jupyter-widgets/controls",
          "model_name": "HTMLModel",
          "model_module_version": "1.5.0",
          "state": {
            "_dom_classes": [],
            "_model_module": "@jupyter-widgets/controls",
            "_model_module_version": "1.5.0",
            "_model_name": "HTMLModel",
            "_view_count": null,
            "_view_module": "@jupyter-widgets/controls",
            "_view_module_version": "1.5.0",
            "_view_name": "HTMLView",
            "description": "",
            "description_tooltip": null,
            "layout": "IPY_MODEL_710b28882b7b49cf9805cb432e40130c",
            "placeholder": "​",
            "style": "IPY_MODEL_85716a19c972433e85b64a28e7d838df",
            "value": "Downloading (…)/main/tokenizer.json: 100%"
          }
        },
        "275e77fa290c4adeb4ea413f00c077e4": {
          "model_module": "@jupyter-widgets/controls",
          "model_name": "FloatProgressModel",
          "model_module_version": "1.5.0",
          "state": {
            "_dom_classes": [],
            "_model_module": "@jupyter-widgets/controls",
            "_model_module_version": "1.5.0",
            "_model_name": "FloatProgressModel",
            "_view_count": null,
            "_view_module": "@jupyter-widgets/controls",
            "_view_module_version": "1.5.0",
            "_view_name": "ProgressView",
            "bar_style": "success",
            "description": "",
            "description_tooltip": null,
            "layout": "IPY_MODEL_b07f51994c8648d0af4cd62ec7e4672b",
            "max": 2825034,
            "min": 0,
            "orientation": "horizontal",
            "style": "IPY_MODEL_f36f3050f7e54438b324342d51a7e333",
            "value": 2825034
          }
        },
        "00d18ab3abfa4491ac5d8ba36f506a7d": {
          "model_module": "@jupyter-widgets/controls",
          "model_name": "HTMLModel",
          "model_module_version": "1.5.0",
          "state": {
            "_dom_classes": [],
            "_model_module": "@jupyter-widgets/controls",
            "_model_module_version": "1.5.0",
            "_model_name": "HTMLModel",
            "_view_count": null,
            "_view_module": "@jupyter-widgets/controls",
            "_view_module_version": "1.5.0",
            "_view_name": "HTMLView",
            "description": "",
            "description_tooltip": null,
            "layout": "IPY_MODEL_76dda845591b4373b22fbbc5e230abf5",
            "placeholder": "​",
            "style": "IPY_MODEL_da20d706983c425f98878b9b8c7aabd6",
            "value": " 2.83M/2.83M [00:00&lt;00:00, 26.0MB/s]"
          }
        },
        "59ab6326eb8a40f3ab554ffe040a147b": {
          "model_module": "@jupyter-widgets/base",
          "model_name": "LayoutModel",
          "model_module_version": "1.2.0",
          "state": {
            "_model_module": "@jupyter-widgets/base",
            "_model_module_version": "1.2.0",
            "_model_name": "LayoutModel",
            "_view_count": null,
            "_view_module": "@jupyter-widgets/base",
            "_view_module_version": "1.2.0",
            "_view_name": "LayoutView",
            "align_content": null,
            "align_items": null,
            "align_self": null,
            "border": null,
            "bottom": null,
            "display": null,
            "flex": null,
            "flex_flow": null,
            "grid_area": null,
            "grid_auto_columns": null,
            "grid_auto_flow": null,
            "grid_auto_rows": null,
            "grid_column": null,
            "grid_gap": null,
            "grid_row": null,
            "grid_template_areas": null,
            "grid_template_columns": null,
            "grid_template_rows": null,
            "height": null,
            "justify_content": null,
            "justify_items": null,
            "left": null,
            "margin": null,
            "max_height": null,
            "max_width": null,
            "min_height": null,
            "min_width": null,
            "object_fit": null,
            "object_position": null,
            "order": null,
            "overflow": null,
            "overflow_x": null,
            "overflow_y": null,
            "padding": null,
            "right": null,
            "top": null,
            "visibility": null,
            "width": null
          }
        },
        "710b28882b7b49cf9805cb432e40130c": {
          "model_module": "@jupyter-widgets/base",
          "model_name": "LayoutModel",
          "model_module_version": "1.2.0",
          "state": {
            "_model_module": "@jupyter-widgets/base",
            "_model_module_version": "1.2.0",
            "_model_name": "LayoutModel",
            "_view_count": null,
            "_view_module": "@jupyter-widgets/base",
            "_view_module_version": "1.2.0",
            "_view_name": "LayoutView",
            "align_content": null,
            "align_items": null,
            "align_self": null,
            "border": null,
            "bottom": null,
            "display": null,
            "flex": null,
            "flex_flow": null,
            "grid_area": null,
            "grid_auto_columns": null,
            "grid_auto_flow": null,
            "grid_auto_rows": null,
            "grid_column": null,
            "grid_gap": null,
            "grid_row": null,
            "grid_template_areas": null,
            "grid_template_columns": null,
            "grid_template_rows": null,
            "height": null,
            "justify_content": null,
            "justify_items": null,
            "left": null,
            "margin": null,
            "max_height": null,
            "max_width": null,
            "min_height": null,
            "min_width": null,
            "object_fit": null,
            "object_position": null,
            "order": null,
            "overflow": null,
            "overflow_x": null,
            "overflow_y": null,
            "padding": null,
            "right": null,
            "top": null,
            "visibility": null,
            "width": null
          }
        },
        "85716a19c972433e85b64a28e7d838df": {
          "model_module": "@jupyter-widgets/controls",
          "model_name": "DescriptionStyleModel",
          "model_module_version": "1.5.0",
          "state": {
            "_model_module": "@jupyter-widgets/controls",
            "_model_module_version": "1.5.0",
            "_model_name": "DescriptionStyleModel",
            "_view_count": null,
            "_view_module": "@jupyter-widgets/base",
            "_view_module_version": "1.2.0",
            "_view_name": "StyleView",
            "description_width": ""
          }
        },
        "b07f51994c8648d0af4cd62ec7e4672b": {
          "model_module": "@jupyter-widgets/base",
          "model_name": "LayoutModel",
          "model_module_version": "1.2.0",
          "state": {
            "_model_module": "@jupyter-widgets/base",
            "_model_module_version": "1.2.0",
            "_model_name": "LayoutModel",
            "_view_count": null,
            "_view_module": "@jupyter-widgets/base",
            "_view_module_version": "1.2.0",
            "_view_name": "LayoutView",
            "align_content": null,
            "align_items": null,
            "align_self": null,
            "border": null,
            "bottom": null,
            "display": null,
            "flex": null,
            "flex_flow": null,
            "grid_area": null,
            "grid_auto_columns": null,
            "grid_auto_flow": null,
            "grid_auto_rows": null,
            "grid_column": null,
            "grid_gap": null,
            "grid_row": null,
            "grid_template_areas": null,
            "grid_template_columns": null,
            "grid_template_rows": null,
            "height": null,
            "justify_content": null,
            "justify_items": null,
            "left": null,
            "margin": null,
            "max_height": null,
            "max_width": null,
            "min_height": null,
            "min_width": null,
            "object_fit": null,
            "object_position": null,
            "order": null,
            "overflow": null,
            "overflow_x": null,
            "overflow_y": null,
            "padding": null,
            "right": null,
            "top": null,
            "visibility": null,
            "width": null
          }
        },
        "f36f3050f7e54438b324342d51a7e333": {
          "model_module": "@jupyter-widgets/controls",
          "model_name": "ProgressStyleModel",
          "model_module_version": "1.5.0",
          "state": {
            "_model_module": "@jupyter-widgets/controls",
            "_model_module_version": "1.5.0",
            "_model_name": "ProgressStyleModel",
            "_view_count": null,
            "_view_module": "@jupyter-widgets/base",
            "_view_module_version": "1.2.0",
            "_view_name": "StyleView",
            "bar_color": null,
            "description_width": ""
          }
        },
        "76dda845591b4373b22fbbc5e230abf5": {
          "model_module": "@jupyter-widgets/base",
          "model_name": "LayoutModel",
          "model_module_version": "1.2.0",
          "state": {
            "_model_module": "@jupyter-widgets/base",
            "_model_module_version": "1.2.0",
            "_model_name": "LayoutModel",
            "_view_count": null,
            "_view_module": "@jupyter-widgets/base",
            "_view_module_version": "1.2.0",
            "_view_name": "LayoutView",
            "align_content": null,
            "align_items": null,
            "align_self": null,
            "border": null,
            "bottom": null,
            "display": null,
            "flex": null,
            "flex_flow": null,
            "grid_area": null,
            "grid_auto_columns": null,
            "grid_auto_flow": null,
            "grid_auto_rows": null,
            "grid_column": null,
            "grid_gap": null,
            "grid_row": null,
            "grid_template_areas": null,
            "grid_template_columns": null,
            "grid_template_rows": null,
            "height": null,
            "justify_content": null,
            "justify_items": null,
            "left": null,
            "margin": null,
            "max_height": null,
            "max_width": null,
            "min_height": null,
            "min_width": null,
            "object_fit": null,
            "object_position": null,
            "order": null,
            "overflow": null,
            "overflow_x": null,
            "overflow_y": null,
            "padding": null,
            "right": null,
            "top": null,
            "visibility": null,
            "width": null
          }
        },
        "da20d706983c425f98878b9b8c7aabd6": {
          "model_module": "@jupyter-widgets/controls",
          "model_name": "DescriptionStyleModel",
          "model_module_version": "1.5.0",
          "state": {
            "_model_module": "@jupyter-widgets/controls",
            "_model_module_version": "1.5.0",
            "_model_name": "DescriptionStyleModel",
            "_view_count": null,
            "_view_module": "@jupyter-widgets/base",
            "_view_module_version": "1.2.0",
            "_view_name": "StyleView",
            "description_width": ""
          }
        },
        "1eb8f8fe2b5047eca29bbb777d8d09f6": {
          "model_module": "@jupyter-widgets/controls",
          "model_name": "HBoxModel",
          "model_module_version": "1.5.0",
          "state": {
            "_dom_classes": [],
            "_model_module": "@jupyter-widgets/controls",
            "_model_module_version": "1.5.0",
            "_model_name": "HBoxModel",
            "_view_count": null,
            "_view_module": "@jupyter-widgets/controls",
            "_view_module_version": "1.5.0",
            "_view_name": "HBoxView",
            "box_style": "",
            "children": [
              "IPY_MODEL_5ce353e4b0f9406e83186b7ecc486cb2",
              "IPY_MODEL_7d139b78043245098d9510ca9f45959f",
              "IPY_MODEL_2249ea72f26546309dbc00ccfc34db25"
            ],
            "layout": "IPY_MODEL_768298eafcc54bd18e2a5fdfe6184f7d"
          }
        },
        "5ce353e4b0f9406e83186b7ecc486cb2": {
          "model_module": "@jupyter-widgets/controls",
          "model_name": "HTMLModel",
          "model_module_version": "1.5.0",
          "state": {
            "_dom_classes": [],
            "_model_module": "@jupyter-widgets/controls",
            "_model_module_version": "1.5.0",
            "_model_name": "HTMLModel",
            "_view_count": null,
            "_view_module": "@jupyter-widgets/controls",
            "_view_module_version": "1.5.0",
            "_view_name": "HTMLView",
            "description": "",
            "description_tooltip": null,
            "layout": "IPY_MODEL_5997b0d693d642cb8c844c425d6901ed",
            "placeholder": "​",
            "style": "IPY_MODEL_79e4ce93333c418aacda4d2b19c743ff",
            "value": "Downloading (…)lve/main/config.json: 100%"
          }
        },
        "7d139b78043245098d9510ca9f45959f": {
          "model_module": "@jupyter-widgets/controls",
          "model_name": "FloatProgressModel",
          "model_module_version": "1.5.0",
          "state": {
            "_dom_classes": [],
            "_model_module": "@jupyter-widgets/controls",
            "_model_module_version": "1.5.0",
            "_model_name": "FloatProgressModel",
            "_view_count": null,
            "_view_module": "@jupyter-widgets/controls",
            "_view_module_version": "1.5.0",
            "_view_name": "ProgressView",
            "bar_style": "success",
            "description": "",
            "description_tooltip": null,
            "layout": "IPY_MODEL_1eff5e6cc8284e1dbb26aa4b9eaf56f4",
            "max": 1000,
            "min": 0,
            "orientation": "horizontal",
            "style": "IPY_MODEL_2e70ace6e75e45cba47acf1a1c7e4b8e",
            "value": 1000
          }
        },
        "2249ea72f26546309dbc00ccfc34db25": {
          "model_module": "@jupyter-widgets/controls",
          "model_name": "HTMLModel",
          "model_module_version": "1.5.0",
          "state": {
            "_dom_classes": [],
            "_model_module": "@jupyter-widgets/controls",
            "_model_module_version": "1.5.0",
            "_model_name": "HTMLModel",
            "_view_count": null,
            "_view_module": "@jupyter-widgets/controls",
            "_view_module_version": "1.5.0",
            "_view_name": "HTMLView",
            "description": "",
            "description_tooltip": null,
            "layout": "IPY_MODEL_4646dedb38174e6fae7917aa92d80281",
            "placeholder": "​",
            "style": "IPY_MODEL_752dd83cb7ee4b29a6c34dc519c25462",
            "value": " 1.00k/1.00k [00:00&lt;00:00, 26.8kB/s]"
          }
        },
        "768298eafcc54bd18e2a5fdfe6184f7d": {
          "model_module": "@jupyter-widgets/base",
          "model_name": "LayoutModel",
          "model_module_version": "1.2.0",
          "state": {
            "_model_module": "@jupyter-widgets/base",
            "_model_module_version": "1.2.0",
            "_model_name": "LayoutModel",
            "_view_count": null,
            "_view_module": "@jupyter-widgets/base",
            "_view_module_version": "1.2.0",
            "_view_name": "LayoutView",
            "align_content": null,
            "align_items": null,
            "align_self": null,
            "border": null,
            "bottom": null,
            "display": null,
            "flex": null,
            "flex_flow": null,
            "grid_area": null,
            "grid_auto_columns": null,
            "grid_auto_flow": null,
            "grid_auto_rows": null,
            "grid_column": null,
            "grid_gap": null,
            "grid_row": null,
            "grid_template_areas": null,
            "grid_template_columns": null,
            "grid_template_rows": null,
            "height": null,
            "justify_content": null,
            "justify_items": null,
            "left": null,
            "margin": null,
            "max_height": null,
            "max_width": null,
            "min_height": null,
            "min_width": null,
            "object_fit": null,
            "object_position": null,
            "order": null,
            "overflow": null,
            "overflow_x": null,
            "overflow_y": null,
            "padding": null,
            "right": null,
            "top": null,
            "visibility": null,
            "width": null
          }
        },
        "5997b0d693d642cb8c844c425d6901ed": {
          "model_module": "@jupyter-widgets/base",
          "model_name": "LayoutModel",
          "model_module_version": "1.2.0",
          "state": {
            "_model_module": "@jupyter-widgets/base",
            "_model_module_version": "1.2.0",
            "_model_name": "LayoutModel",
            "_view_count": null,
            "_view_module": "@jupyter-widgets/base",
            "_view_module_version": "1.2.0",
            "_view_name": "LayoutView",
            "align_content": null,
            "align_items": null,
            "align_self": null,
            "border": null,
            "bottom": null,
            "display": null,
            "flex": null,
            "flex_flow": null,
            "grid_area": null,
            "grid_auto_columns": null,
            "grid_auto_flow": null,
            "grid_auto_rows": null,
            "grid_column": null,
            "grid_gap": null,
            "grid_row": null,
            "grid_template_areas": null,
            "grid_template_columns": null,
            "grid_template_rows": null,
            "height": null,
            "justify_content": null,
            "justify_items": null,
            "left": null,
            "margin": null,
            "max_height": null,
            "max_width": null,
            "min_height": null,
            "min_width": null,
            "object_fit": null,
            "object_position": null,
            "order": null,
            "overflow": null,
            "overflow_x": null,
            "overflow_y": null,
            "padding": null,
            "right": null,
            "top": null,
            "visibility": null,
            "width": null
          }
        },
        "79e4ce93333c418aacda4d2b19c743ff": {
          "model_module": "@jupyter-widgets/controls",
          "model_name": "DescriptionStyleModel",
          "model_module_version": "1.5.0",
          "state": {
            "_model_module": "@jupyter-widgets/controls",
            "_model_module_version": "1.5.0",
            "_model_name": "DescriptionStyleModel",
            "_view_count": null,
            "_view_module": "@jupyter-widgets/base",
            "_view_module_version": "1.2.0",
            "_view_name": "StyleView",
            "description_width": ""
          }
        },
        "1eff5e6cc8284e1dbb26aa4b9eaf56f4": {
          "model_module": "@jupyter-widgets/base",
          "model_name": "LayoutModel",
          "model_module_version": "1.2.0",
          "state": {
            "_model_module": "@jupyter-widgets/base",
            "_model_module_version": "1.2.0",
            "_model_name": "LayoutModel",
            "_view_count": null,
            "_view_module": "@jupyter-widgets/base",
            "_view_module_version": "1.2.0",
            "_view_name": "LayoutView",
            "align_content": null,
            "align_items": null,
            "align_self": null,
            "border": null,
            "bottom": null,
            "display": null,
            "flex": null,
            "flex_flow": null,
            "grid_area": null,
            "grid_auto_columns": null,
            "grid_auto_flow": null,
            "grid_auto_rows": null,
            "grid_column": null,
            "grid_gap": null,
            "grid_row": null,
            "grid_template_areas": null,
            "grid_template_columns": null,
            "grid_template_rows": null,
            "height": null,
            "justify_content": null,
            "justify_items": null,
            "left": null,
            "margin": null,
            "max_height": null,
            "max_width": null,
            "min_height": null,
            "min_width": null,
            "object_fit": null,
            "object_position": null,
            "order": null,
            "overflow": null,
            "overflow_x": null,
            "overflow_y": null,
            "padding": null,
            "right": null,
            "top": null,
            "visibility": null,
            "width": null
          }
        },
        "2e70ace6e75e45cba47acf1a1c7e4b8e": {
          "model_module": "@jupyter-widgets/controls",
          "model_name": "ProgressStyleModel",
          "model_module_version": "1.5.0",
          "state": {
            "_model_module": "@jupyter-widgets/controls",
            "_model_module_version": "1.5.0",
            "_model_name": "ProgressStyleModel",
            "_view_count": null,
            "_view_module": "@jupyter-widgets/base",
            "_view_module_version": "1.2.0",
            "_view_name": "StyleView",
            "bar_color": null,
            "description_width": ""
          }
        },
        "4646dedb38174e6fae7917aa92d80281": {
          "model_module": "@jupyter-widgets/base",
          "model_name": "LayoutModel",
          "model_module_version": "1.2.0",
          "state": {
            "_model_module": "@jupyter-widgets/base",
            "_model_module_version": "1.2.0",
            "_model_name": "LayoutModel",
            "_view_count": null,
            "_view_module": "@jupyter-widgets/base",
            "_view_module_version": "1.2.0",
            "_view_name": "LayoutView",
            "align_content": null,
            "align_items": null,
            "align_self": null,
            "border": null,
            "bottom": null,
            "display": null,
            "flex": null,
            "flex_flow": null,
            "grid_area": null,
            "grid_auto_columns": null,
            "grid_auto_flow": null,
            "grid_auto_rows": null,
            "grid_column": null,
            "grid_gap": null,
            "grid_row": null,
            "grid_template_areas": null,
            "grid_template_columns": null,
            "grid_template_rows": null,
            "height": null,
            "justify_content": null,
            "justify_items": null,
            "left": null,
            "margin": null,
            "max_height": null,
            "max_width": null,
            "min_height": null,
            "min_width": null,
            "object_fit": null,
            "object_position": null,
            "order": null,
            "overflow": null,
            "overflow_x": null,
            "overflow_y": null,
            "padding": null,
            "right": null,
            "top": null,
            "visibility": null,
            "width": null
          }
        },
        "752dd83cb7ee4b29a6c34dc519c25462": {
          "model_module": "@jupyter-widgets/controls",
          "model_name": "DescriptionStyleModel",
          "model_module_version": "1.5.0",
          "state": {
            "_model_module": "@jupyter-widgets/controls",
            "_model_module_version": "1.5.0",
            "_model_name": "DescriptionStyleModel",
            "_view_count": null,
            "_view_module": "@jupyter-widgets/base",
            "_view_module_version": "1.2.0",
            "_view_name": "StyleView",
            "description_width": ""
          }
        },
        "95ae0124d6b04d4ebc11bbc6ae16108c": {
          "model_module": "@jupyter-widgets/controls",
          "model_name": "HBoxModel",
          "model_module_version": "1.5.0",
          "state": {
            "_dom_classes": [],
            "_model_module": "@jupyter-widgets/controls",
            "_model_module_version": "1.5.0",
            "_model_name": "HBoxModel",
            "_view_count": null,
            "_view_module": "@jupyter-widgets/controls",
            "_view_module_version": "1.5.0",
            "_view_name": "HBoxView",
            "box_style": "",
            "children": [
              "IPY_MODEL_9475f4bd09ea4f8189943c1773043866",
              "IPY_MODEL_357fbdf262304eefb8cecd0958b499d7",
              "IPY_MODEL_41f1270cc3024deba53180e17cee26b7"
            ],
            "layout": "IPY_MODEL_cb545b672c26480eab34b53965783e2c"
          }
        },
        "9475f4bd09ea4f8189943c1773043866": {
          "model_module": "@jupyter-widgets/controls",
          "model_name": "HTMLModel",
          "model_module_version": "1.5.0",
          "state": {
            "_dom_classes": [],
            "_model_module": "@jupyter-widgets/controls",
            "_model_module_version": "1.5.0",
            "_model_name": "HTMLModel",
            "_view_count": null,
            "_view_module": "@jupyter-widgets/controls",
            "_view_module_version": "1.5.0",
            "_view_name": "HTMLView",
            "description": "",
            "description_tooltip": null,
            "layout": "IPY_MODEL_f7122e724aaf4935ae355bd979a6de1f",
            "placeholder": "​",
            "style": "IPY_MODEL_8c7aad5ba703421090b0613eef4cce33",
            "value": "Downloading pytorch_model.bin: 100%"
          }
        },
        "357fbdf262304eefb8cecd0958b499d7": {
          "model_module": "@jupyter-widgets/controls",
          "model_name": "FloatProgressModel",
          "model_module_version": "1.5.0",
          "state": {
            "_dom_classes": [],
            "_model_module": "@jupyter-widgets/controls",
            "_model_module_version": "1.5.0",
            "_model_name": "FloatProgressModel",
            "_view_count": null,
            "_view_module": "@jupyter-widgets/controls",
            "_view_module_version": "1.5.0",
            "_view_name": "ProgressView",
            "bar_style": "success",
            "description": "",
            "description_tooltip": null,
            "layout": "IPY_MODEL_d626e68a3a0d4af88fe3c573d20266e9",
            "max": 513302779,
            "min": 0,
            "orientation": "horizontal",
            "style": "IPY_MODEL_2caf79abdced44ff99c32bbe065615ee",
            "value": 513302779
          }
        },
        "41f1270cc3024deba53180e17cee26b7": {
          "model_module": "@jupyter-widgets/controls",
          "model_name": "HTMLModel",
          "model_module_version": "1.5.0",
          "state": {
            "_dom_classes": [],
            "_model_module": "@jupyter-widgets/controls",
            "_model_module_version": "1.5.0",
            "_model_name": "HTMLModel",
            "_view_count": null,
            "_view_module": "@jupyter-widgets/controls",
            "_view_module_version": "1.5.0",
            "_view_name": "HTMLView",
            "description": "",
            "description_tooltip": null,
            "layout": "IPY_MODEL_4c21307fb1ef4cedaf9186d5c241ff5f",
            "placeholder": "​",
            "style": "IPY_MODEL_8d0bcf7555964768b6b456bbb33459ef",
            "value": " 513M/513M [00:09&lt;00:00, 77.8MB/s]"
          }
        },
        "cb545b672c26480eab34b53965783e2c": {
          "model_module": "@jupyter-widgets/base",
          "model_name": "LayoutModel",
          "model_module_version": "1.2.0",
          "state": {
            "_model_module": "@jupyter-widgets/base",
            "_model_module_version": "1.2.0",
            "_model_name": "LayoutModel",
            "_view_count": null,
            "_view_module": "@jupyter-widgets/base",
            "_view_module_version": "1.2.0",
            "_view_name": "LayoutView",
            "align_content": null,
            "align_items": null,
            "align_self": null,
            "border": null,
            "bottom": null,
            "display": null,
            "flex": null,
            "flex_flow": null,
            "grid_area": null,
            "grid_auto_columns": null,
            "grid_auto_flow": null,
            "grid_auto_rows": null,
            "grid_column": null,
            "grid_gap": null,
            "grid_row": null,
            "grid_template_areas": null,
            "grid_template_columns": null,
            "grid_template_rows": null,
            "height": null,
            "justify_content": null,
            "justify_items": null,
            "left": null,
            "margin": null,
            "max_height": null,
            "max_width": null,
            "min_height": null,
            "min_width": null,
            "object_fit": null,
            "object_position": null,
            "order": null,
            "overflow": null,
            "overflow_x": null,
            "overflow_y": null,
            "padding": null,
            "right": null,
            "top": null,
            "visibility": null,
            "width": null
          }
        },
        "f7122e724aaf4935ae355bd979a6de1f": {
          "model_module": "@jupyter-widgets/base",
          "model_name": "LayoutModel",
          "model_module_version": "1.2.0",
          "state": {
            "_model_module": "@jupyter-widgets/base",
            "_model_module_version": "1.2.0",
            "_model_name": "LayoutModel",
            "_view_count": null,
            "_view_module": "@jupyter-widgets/base",
            "_view_module_version": "1.2.0",
            "_view_name": "LayoutView",
            "align_content": null,
            "align_items": null,
            "align_self": null,
            "border": null,
            "bottom": null,
            "display": null,
            "flex": null,
            "flex_flow": null,
            "grid_area": null,
            "grid_auto_columns": null,
            "grid_auto_flow": null,
            "grid_auto_rows": null,
            "grid_column": null,
            "grid_gap": null,
            "grid_row": null,
            "grid_template_areas": null,
            "grid_template_columns": null,
            "grid_template_rows": null,
            "height": null,
            "justify_content": null,
            "justify_items": null,
            "left": null,
            "margin": null,
            "max_height": null,
            "max_width": null,
            "min_height": null,
            "min_width": null,
            "object_fit": null,
            "object_position": null,
            "order": null,
            "overflow": null,
            "overflow_x": null,
            "overflow_y": null,
            "padding": null,
            "right": null,
            "top": null,
            "visibility": null,
            "width": null
          }
        },
        "8c7aad5ba703421090b0613eef4cce33": {
          "model_module": "@jupyter-widgets/controls",
          "model_name": "DescriptionStyleModel",
          "model_module_version": "1.5.0",
          "state": {
            "_model_module": "@jupyter-widgets/controls",
            "_model_module_version": "1.5.0",
            "_model_name": "DescriptionStyleModel",
            "_view_count": null,
            "_view_module": "@jupyter-widgets/base",
            "_view_module_version": "1.2.0",
            "_view_name": "StyleView",
            "description_width": ""
          }
        },
        "d626e68a3a0d4af88fe3c573d20266e9": {
          "model_module": "@jupyter-widgets/base",
          "model_name": "LayoutModel",
          "model_module_version": "1.2.0",
          "state": {
            "_model_module": "@jupyter-widgets/base",
            "_model_module_version": "1.2.0",
            "_model_name": "LayoutModel",
            "_view_count": null,
            "_view_module": "@jupyter-widgets/base",
            "_view_module_version": "1.2.0",
            "_view_name": "LayoutView",
            "align_content": null,
            "align_items": null,
            "align_self": null,
            "border": null,
            "bottom": null,
            "display": null,
            "flex": null,
            "flex_flow": null,
            "grid_area": null,
            "grid_auto_columns": null,
            "grid_auto_flow": null,
            "grid_auto_rows": null,
            "grid_column": null,
            "grid_gap": null,
            "grid_row": null,
            "grid_template_areas": null,
            "grid_template_columns": null,
            "grid_template_rows": null,
            "height": null,
            "justify_content": null,
            "justify_items": null,
            "left": null,
            "margin": null,
            "max_height": null,
            "max_width": null,
            "min_height": null,
            "min_width": null,
            "object_fit": null,
            "object_position": null,
            "order": null,
            "overflow": null,
            "overflow_x": null,
            "overflow_y": null,
            "padding": null,
            "right": null,
            "top": null,
            "visibility": null,
            "width": null
          }
        },
        "2caf79abdced44ff99c32bbe065615ee": {
          "model_module": "@jupyter-widgets/controls",
          "model_name": "ProgressStyleModel",
          "model_module_version": "1.5.0",
          "state": {
            "_model_module": "@jupyter-widgets/controls",
            "_model_module_version": "1.5.0",
            "_model_name": "ProgressStyleModel",
            "_view_count": null,
            "_view_module": "@jupyter-widgets/base",
            "_view_module_version": "1.2.0",
            "_view_name": "StyleView",
            "bar_color": null,
            "description_width": ""
          }
        },
        "4c21307fb1ef4cedaf9186d5c241ff5f": {
          "model_module": "@jupyter-widgets/base",
          "model_name": "LayoutModel",
          "model_module_version": "1.2.0",
          "state": {
            "_model_module": "@jupyter-widgets/base",
            "_model_module_version": "1.2.0",
            "_model_name": "LayoutModel",
            "_view_count": null,
            "_view_module": "@jupyter-widgets/base",
            "_view_module_version": "1.2.0",
            "_view_name": "LayoutView",
            "align_content": null,
            "align_items": null,
            "align_self": null,
            "border": null,
            "bottom": null,
            "display": null,
            "flex": null,
            "flex_flow": null,
            "grid_area": null,
            "grid_auto_columns": null,
            "grid_auto_flow": null,
            "grid_auto_rows": null,
            "grid_column": null,
            "grid_gap": null,
            "grid_row": null,
            "grid_template_areas": null,
            "grid_template_columns": null,
            "grid_template_rows": null,
            "height": null,
            "justify_content": null,
            "justify_items": null,
            "left": null,
            "margin": null,
            "max_height": null,
            "max_width": null,
            "min_height": null,
            "min_width": null,
            "object_fit": null,
            "object_position": null,
            "order": null,
            "overflow": null,
            "overflow_x": null,
            "overflow_y": null,
            "padding": null,
            "right": null,
            "top": null,
            "visibility": null,
            "width": null
          }
        },
        "8d0bcf7555964768b6b456bbb33459ef": {
          "model_module": "@jupyter-widgets/controls",
          "model_name": "DescriptionStyleModel",
          "model_module_version": "1.5.0",
          "state": {
            "_model_module": "@jupyter-widgets/controls",
            "_model_module_version": "1.5.0",
            "_model_name": "DescriptionStyleModel",
            "_view_count": null,
            "_view_module": "@jupyter-widgets/base",
            "_view_module_version": "1.2.0",
            "_view_name": "StyleView",
            "description_width": ""
          }
        }
      }
    }
  },
  "cells": [
    {
      "cell_type": "code",
      "source": [
        "from google.colab import drive\n",
        "drive.mount(\"/content/drive\")"
      ],
      "metadata": {
        "colab": {
          "base_uri": "https://localhost:8080/"
        },
        "id": "wfdBkWr9ArGv",
        "outputId": "8e2a9da1-07fe-44c9-b835-5f8ee115f369"
      },
      "execution_count": 4,
      "outputs": [
        {
          "output_type": "stream",
          "name": "stdout",
          "text": [
            "Drive already mounted at /content/drive; to attempt to forcibly remount, call drive.mount(\"/content/drive\", force_remount=True).\n"
          ]
        }
      ]
    },
    {
      "cell_type": "markdown",
      "source": [
        "##Transformer##\n",
        "\n",
        "트랜스포머는 어텐션을 이용하는 인코더-디코더 구조의 모델입니다.\n",
        "트랜스포머 기반의 language model은 NLP의 많은 task에서 좋은 성능을 보여줍니다.\n",
        "\n",
        "트랜스포머는 후에 많은 nlp모델에 영향을 끼쳤습니다. 우리에게 익숙한 GPT도 트랜스포머를 이용한 모델입니다. (말하자면 사전학습된 트랜스포머입니다)\n",
        "\n",
        "이번 과제에서는 hugging face와 GPT에 관해 간략히 소개하고 챗봇을 구성해보겠습니다\n",
        "\n"
      ],
      "metadata": {
        "id": "-jpBH-NKWPGU"
      }
    },
    {
      "cell_type": "markdown",
      "source": [
        "##hugging face 🤗##\n",
        "\n",
        "허깅페이스는 여러 분야의 가장 좋은 성능을 내는 딥러닝 모델을 쉽게 사용할 수 있는 인터페이스를 제공합니다.\n",
        "\n",
        "허깅페이스의 transformers 라이브러리는 모델을 사용하기 위한 전처리, 학습, 배포와 관련된 편의기능을 제공합니다.\n",
        "\n",
        "허깅페이스의 꽃이라고 할 수있는 인터페이스는 pipeline입니다. 이번에는 사용하지 않을 것이지만 모델을 다운받지 않고도 전처리부터 예측까지 한줄의 코드로 진행해줍니다. (https://huggingface.co/docs/transformers/main_classes/pipelines)"
      ],
      "metadata": {
        "id": "Fh9jNI3S7Nye"
      }
    },
    {
      "cell_type": "code",
      "execution_count": 6,
      "metadata": {
        "id": "r9nsP3HDV-ZF",
        "colab": {
          "base_uri": "https://localhost:8080/"
        },
        "outputId": "c1b2590d-99de-4e7c-cb78-5b1414bc29ab"
      },
      "outputs": [
        {
          "output_type": "stream",
          "name": "stdout",
          "text": [
            "Collecting transformers\n",
            "  Downloading transformers-4.31.0-py3-none-any.whl (7.4 MB)\n",
            "\u001b[2K     \u001b[90m━━━━━━━━━━━━━━━━━━━━━━━━━━━━━━━━━━━━━━━━\u001b[0m \u001b[32m7.4/7.4 MB\u001b[0m \u001b[31m17.3 MB/s\u001b[0m eta \u001b[36m0:00:00\u001b[0m\n",
            "\u001b[?25hRequirement already satisfied: filelock in /usr/local/lib/python3.10/dist-packages (from transformers) (3.12.2)\n",
            "Collecting huggingface-hub<1.0,>=0.14.1 (from transformers)\n",
            "  Downloading huggingface_hub-0.16.4-py3-none-any.whl (268 kB)\n",
            "\u001b[2K     \u001b[90m━━━━━━━━━━━━━━━━━━━━━━━━━━━━━━━━━━━━━━\u001b[0m \u001b[32m268.8/268.8 kB\u001b[0m \u001b[31m30.6 MB/s\u001b[0m eta \u001b[36m0:00:00\u001b[0m\n",
            "\u001b[?25hRequirement already satisfied: numpy>=1.17 in /usr/local/lib/python3.10/dist-packages (from transformers) (1.23.5)\n",
            "Requirement already satisfied: packaging>=20.0 in /usr/local/lib/python3.10/dist-packages (from transformers) (23.1)\n",
            "Requirement already satisfied: pyyaml>=5.1 in /usr/local/lib/python3.10/dist-packages (from transformers) (6.0.1)\n",
            "Requirement already satisfied: regex!=2019.12.17 in /usr/local/lib/python3.10/dist-packages (from transformers) (2022.10.31)\n",
            "Requirement already satisfied: requests in /usr/local/lib/python3.10/dist-packages (from transformers) (2.31.0)\n",
            "Collecting tokenizers!=0.11.3,<0.14,>=0.11.1 (from transformers)\n",
            "  Downloading tokenizers-0.13.3-cp310-cp310-manylinux_2_17_x86_64.manylinux2014_x86_64.whl (7.8 MB)\n",
            "\u001b[2K     \u001b[90m━━━━━━━━━━━━━━━━━━━━━━━━━━━━━━━━━━━━━━━━\u001b[0m \u001b[32m7.8/7.8 MB\u001b[0m \u001b[31m44.8 MB/s\u001b[0m eta \u001b[36m0:00:00\u001b[0m\n",
            "\u001b[?25hCollecting safetensors>=0.3.1 (from transformers)\n",
            "  Downloading safetensors-0.3.2-cp310-cp310-manylinux_2_17_x86_64.manylinux2014_x86_64.whl (1.3 MB)\n",
            "\u001b[2K     \u001b[90m━━━━━━━━━━━━━━━━━━━━━━━━━━━━━━━━━━━━━━━━\u001b[0m \u001b[32m1.3/1.3 MB\u001b[0m \u001b[31m45.4 MB/s\u001b[0m eta \u001b[36m0:00:00\u001b[0m\n",
            "\u001b[?25hRequirement already satisfied: tqdm>=4.27 in /usr/local/lib/python3.10/dist-packages (from transformers) (4.65.0)\n",
            "Requirement already satisfied: fsspec in /usr/local/lib/python3.10/dist-packages (from huggingface-hub<1.0,>=0.14.1->transformers) (2023.6.0)\n",
            "Requirement already satisfied: typing-extensions>=3.7.4.3 in /usr/local/lib/python3.10/dist-packages (from huggingface-hub<1.0,>=0.14.1->transformers) (4.7.1)\n",
            "Requirement already satisfied: charset-normalizer<4,>=2 in /usr/local/lib/python3.10/dist-packages (from requests->transformers) (3.2.0)\n",
            "Requirement already satisfied: idna<4,>=2.5 in /usr/local/lib/python3.10/dist-packages (from requests->transformers) (3.4)\n",
            "Requirement already satisfied: urllib3<3,>=1.21.1 in /usr/local/lib/python3.10/dist-packages (from requests->transformers) (1.26.16)\n",
            "Requirement already satisfied: certifi>=2017.4.17 in /usr/local/lib/python3.10/dist-packages (from requests->transformers) (2023.7.22)\n",
            "Installing collected packages: tokenizers, safetensors, huggingface-hub, transformers\n",
            "Successfully installed huggingface-hub-0.16.4 safetensors-0.3.2 tokenizers-0.13.3 transformers-4.31.0\n"
          ]
        }
      ],
      "source": [
        "!pip install transformers"
      ]
    },
    {
      "cell_type": "markdown",
      "source": [
        "전처리를 위해 kogpt를 학습할 때 사용된 토크나이저를 가져와 줍니다. 학습된 토크나이저를 from_pretrained를 이용해 간편하게 불러올 수 있습니다.\n",
        "\n",
        "이것으로 저희 챗봇 데이터셋을 가공하고 챗봇을 만드는 데 사용해 보겠습니다!"
      ],
      "metadata": {
        "id": "SHMWvu4lEDsU"
      }
    },
    {
      "cell_type": "code",
      "source": [
        "from transformers import PreTrainedTokenizerFast, GPT2LMHeadModel"
      ],
      "metadata": {
        "id": "XIbdGQfUbmOx"
      },
      "execution_count": 7,
      "outputs": []
    },
    {
      "cell_type": "code",
      "source": [
        "BOS = \"[BOS]\" # Beginning of sentence\n",
        "SEP = \"[SEP]\" # seperator\n",
        "EOS = \"[EOS]\" # end of sentence\n",
        "PAD = \"[PAD]\" # padding\n",
        "\n",
        "tokenizer = PreTrainedTokenizerFast.from_pretrained(\"skt/kogpt2-base-v2\",\n",
        "            unk_token='<unk>', pad_token=PAD, eos_token=EOS,\n",
        "            bos_token=BOS, sep_token=SEP)"
      ],
      "metadata": {
        "colab": {
          "base_uri": "https://localhost:8080/",
          "height": 174,
          "referenced_widgets": [
            "698d31f085b646ab80c8239b7579dbfe",
            "bbd6bdaafb8b4a74bc0146c4e6d6c590",
            "275e77fa290c4adeb4ea413f00c077e4",
            "00d18ab3abfa4491ac5d8ba36f506a7d",
            "59ab6326eb8a40f3ab554ffe040a147b",
            "710b28882b7b49cf9805cb432e40130c",
            "85716a19c972433e85b64a28e7d838df",
            "b07f51994c8648d0af4cd62ec7e4672b",
            "f36f3050f7e54438b324342d51a7e333",
            "76dda845591b4373b22fbbc5e230abf5",
            "da20d706983c425f98878b9b8c7aabd6",
            "1eb8f8fe2b5047eca29bbb777d8d09f6",
            "5ce353e4b0f9406e83186b7ecc486cb2",
            "7d139b78043245098d9510ca9f45959f",
            "2249ea72f26546309dbc00ccfc34db25",
            "768298eafcc54bd18e2a5fdfe6184f7d",
            "5997b0d693d642cb8c844c425d6901ed",
            "79e4ce93333c418aacda4d2b19c743ff",
            "1eff5e6cc8284e1dbb26aa4b9eaf56f4",
            "2e70ace6e75e45cba47acf1a1c7e4b8e",
            "4646dedb38174e6fae7917aa92d80281",
            "752dd83cb7ee4b29a6c34dc519c25462"
          ]
        },
        "id": "OWAdTuSZXAKg",
        "outputId": "df4825c1-1a23-411c-8f5c-8d873d0513d8"
      },
      "execution_count": 9,
      "outputs": [
        {
          "output_type": "display_data",
          "data": {
            "text/plain": [
              "Downloading (…)/main/tokenizer.json:   0%|          | 0.00/2.83M [00:00<?, ?B/s]"
            ],
            "application/vnd.jupyter.widget-view+json": {
              "version_major": 2,
              "version_minor": 0,
              "model_id": "698d31f085b646ab80c8239b7579dbfe"
            }
          },
          "metadata": {}
        },
        {
          "output_type": "display_data",
          "data": {
            "text/plain": [
              "Downloading (…)lve/main/config.json:   0%|          | 0.00/1.00k [00:00<?, ?B/s]"
            ],
            "application/vnd.jupyter.widget-view+json": {
              "version_major": 2,
              "version_minor": 0,
              "model_id": "1eb8f8fe2b5047eca29bbb777d8d09f6"
            }
          },
          "metadata": {}
        },
        {
          "output_type": "stream",
          "name": "stderr",
          "text": [
            "The tokenizer class you load from this checkpoint is not the same type as the class this function is called from. It may result in unexpected tokenization. \n",
            "The tokenizer class you load from this checkpoint is 'GPT2Tokenizer'. \n",
            "The class this function is called from is 'PreTrainedTokenizerFast'.\n",
            "Special tokens have been added in the vocabulary, make sure the associated word embeddings are fine-tuned or trained.\n"
          ]
        }
      ]
    },
    {
      "cell_type": "code",
      "source": [
        "print(tokenizer.bos_token_id)\n",
        "print(tokenizer.eos_token_id)\n",
        "print(tokenizer.sep_token_id)\n",
        "print(tokenizer.pad_token_id) # QA학습에 사용할 토큰들이 잘 저장되었습니다."
      ],
      "metadata": {
        "colab": {
          "base_uri": "https://localhost:8080/"
        },
        "id": "HNUgL_g_Ew9G",
        "outputId": "514c03ba-cdea-4108-a62e-ac9311b73e2b"
      },
      "execution_count": 10,
      "outputs": [
        {
          "output_type": "stream",
          "name": "stdout",
          "text": [
            "51200\n",
            "51201\n",
            "51202\n",
            "51203\n"
          ]
        }
      ]
    },
    {
      "cell_type": "code",
      "source": [
        "tokenizer.encode(\"안녕하세요 오늘 날씨가 좋아요\")"
      ],
      "metadata": {
        "colab": {
          "base_uri": "https://localhost:8080/"
        },
        "id": "Zq8OKvcpSfJn",
        "outputId": "cbc47c5d-29be-4dd6-d527-07e1457a36a2"
      },
      "execution_count": 11,
      "outputs": [
        {
          "output_type": "execute_result",
          "data": {
            "text/plain": [
              "[25906, 8702, 7801, 8084, 10070, 34018, 12011, 8084]"
            ]
          },
          "metadata": {},
          "execution_count": 11
        }
      ]
    },
    {
      "cell_type": "code",
      "source": [
        "tokenizer.decode([25906, 8702, 7801, 8084, 10070, 34018, 12011, 8084])"
      ],
      "metadata": {
        "colab": {
          "base_uri": "https://localhost:8080/",
          "height": 35
        },
        "id": "xIFynO1RFSY7",
        "outputId": "ae8df357-1eda-42e0-a641-e97ad1f687fa"
      },
      "execution_count": 12,
      "outputs": [
        {
          "output_type": "execute_result",
          "data": {
            "text/plain": [
              "'안녕하세요 오늘 날씨가 좋아요'"
            ],
            "application/vnd.google.colaboratory.intrinsic+json": {
              "type": "string"
            }
          },
          "metadata": {},
          "execution_count": 12
        }
      ]
    },
    {
      "cell_type": "code",
      "source": [
        "# 파이토치, 넘파이, 텐서플로 등에 맞춰 반환형태를 지정할 수 있고 패딩, 배칭도 진행해줍니다.\n",
        "tokenizer(\n",
        "    [\"안녕하세요 오늘 날씨가 엄청 좋아요\", \"만나서 반가워요\"],\n",
        "    return_tensors=\"pt\", truncation=True, padding='max_length',\n",
        "    max_length=10\n",
        ")"
      ],
      "metadata": {
        "colab": {
          "base_uri": "https://localhost:8080/"
        },
        "id": "bAO4HCTPCC_4",
        "outputId": "f06d77b4-a75c-455d-ee1c-84c66e66bc92"
      },
      "execution_count": 13,
      "outputs": [
        {
          "output_type": "execute_result",
          "data": {
            "text/plain": [
              "{'input_ids': tensor([[25906,  8702,  7801,  8084, 10070, 34018, 15546, 12011,  8084, 51203],\n",
              "        [11667,  7788, 36230,  8102,  8084, 51203, 51203, 51203, 51203, 51203]]), 'token_type_ids': tensor([[0, 0, 0, 0, 0, 0, 0, 0, 0, 0],\n",
              "        [0, 0, 0, 0, 0, 0, 0, 0, 0, 0]]), 'attention_mask': tensor([[1, 1, 1, 1, 1, 1, 1, 1, 1, 0],\n",
              "        [1, 1, 1, 1, 1, 0, 0, 0, 0, 0]])}"
            ]
          },
          "metadata": {},
          "execution_count": 13
        }
      ]
    },
    {
      "cell_type": "markdown",
      "source": [
        "## GPT ##\n",
        "\n",
        "우리에게 익숙한 LM인 GPT는 Generative Pretrained Transformer의 약자입니다.\n",
        "\n",
        "![GPT.png](data:image/png;base64,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)\n",
        "\n",
        "GPT의 구조를 유심히 보시면 Transformer의 Decoder를 사용한 것입니다. 인터넷 상의 방대한 일반적인 텍스트로 Transformer Decoder를 Pre-Train(사전 학습)시켜 기계번역, QA, 텍스트 요약 등 다양한 downstream task에 다시 학습(전이 학습, Transfer Learning)시키는 접근 방식입니다.\n",
        "\n",
        "seq2seq, 트랜스포머를 이용해 챗봇을 만들어 봤으니 이번엔 GPT를 이용해봅시다!\n",
        "\n",
        "허깅페이스엔 다양한 데이터로 학습된 모델이 공유되어 있습니다. 저희가 이번에 사용할 kogpt2는 skt에서 한국어 기사를 학습시켜 배포한 모델입니다. (https://github.com/SKT-AI/KoGPT2) transformer 모듈에는 분야별 딥러닝 모델들이 정리되어 있습니다. from_pretrained를 이용해 모델의 구조와 파라미터를 간단하게 불러올 수 있습니다!"
      ],
      "metadata": {
        "id": "e0NMDK8sB3GX"
      }
    },
    {
      "cell_type": "code",
      "source": [
        "import pandas as pd\n",
        "from transformers import get_linear_schedule_with_warmup, AdamW\n",
        "\n",
        "import torch\n",
        "from torch.utils.data import Dataset, DataLoader\n",
        "\n",
        "from tqdm import tqdm"
      ],
      "metadata": {
        "id": "3L5bIzfgb3C5"
      },
      "execution_count": 14,
      "outputs": []
    },
    {
      "cell_type": "code",
      "source": [
        "kogpt2 = GPT2LMHeadModel.from_pretrained('skt/kogpt2-base-v2')\n",
        "\n",
        "kogpt2.resize_token_embeddings(len(tokenizer)) # 모델에도 추가한 토큰 임베딩을 만들어줍니다."
      ],
      "metadata": {
        "colab": {
          "base_uri": "https://localhost:8080/",
          "height": 67,
          "referenced_widgets": [
            "95ae0124d6b04d4ebc11bbc6ae16108c",
            "9475f4bd09ea4f8189943c1773043866",
            "357fbdf262304eefb8cecd0958b499d7",
            "41f1270cc3024deba53180e17cee26b7",
            "cb545b672c26480eab34b53965783e2c",
            "f7122e724aaf4935ae355bd979a6de1f",
            "8c7aad5ba703421090b0613eef4cce33",
            "d626e68a3a0d4af88fe3c573d20266e9",
            "2caf79abdced44ff99c32bbe065615ee",
            "4c21307fb1ef4cedaf9186d5c241ff5f",
            "8d0bcf7555964768b6b456bbb33459ef"
          ]
        },
        "id": "QoajObT0YdSm",
        "outputId": "6141cffa-4df8-4953-c508-72d030ff7a22"
      },
      "execution_count": 15,
      "outputs": [
        {
          "output_type": "display_data",
          "data": {
            "text/plain": [
              "Downloading pytorch_model.bin:   0%|          | 0.00/513M [00:00<?, ?B/s]"
            ],
            "application/vnd.jupyter.widget-view+json": {
              "version_major": 2,
              "version_minor": 0,
              "model_id": "95ae0124d6b04d4ebc11bbc6ae16108c"
            }
          },
          "metadata": {}
        },
        {
          "output_type": "execute_result",
          "data": {
            "text/plain": [
              "Embedding(51204, 768)"
            ]
          },
          "metadata": {},
          "execution_count": 15
        }
      ]
    },
    {
      "cell_type": "markdown",
      "source": [
        "저희가 가진 챗봇 데이터셋의 대화를 하나로 이어 데이터셋을 구성해줍니다.\n",
        "\n",
        "BOS + 사람의 질문 + SEP + 챗봇의 대답 + EOS 가 하나의 샘플이 될 것입니다."
      ],
      "metadata": {
        "id": "cq7HFdETDV-N"
      }
    },
    {
      "cell_type": "code",
      "source": [
        "MAX_LENGTH = 53 # Q + A + 토큰 3개\n",
        "\n",
        "class GPTDataset(Dataset):\n",
        "    def __init__(self, tokenizer, file_path):\n",
        "        data = pd.read_csv(file_path)\n",
        "        concats = [ BOS + Q + SEP + A + EOS for Q, A in zip(data[\"Q\"], data[\"A\"]) ]\n",
        "\n",
        "        self.QApairs = tokenizer(\n",
        "            concats,\n",
        "            return_tensors=\"pt\", # pytorch tensor로 반환해줍니다\n",
        "            padding='max_length', truncation=True,  # 주어진 max_length에 맞춰줍니다\n",
        "            max_length=MAX_LENGTH,\n",
        "        )[\"input_ids\"] # ( Q&A pairs 개수, _ )\n",
        "\n",
        "        self.length = len(concats)\n",
        "\n",
        "    def __getitem__(self, i):\n",
        "        return self.QApairs[i]\n",
        "\n",
        "    def __len__(self):\n",
        "        return self.length"
      ],
      "metadata": {
        "id": "WsoxBtKBYi7m"
      },
      "execution_count": 16,
      "outputs": []
    },
    {
      "cell_type": "code",
      "source": [
        "# 챗봇 데이터셋 경로를 지정해주세요!\n",
        "CSV_PATH = \"/content/drive/MyDrive/ChatbotData.csv\"\n",
        "\n",
        "dataset = GPTDataset(tokenizer, CSV_PATH)\n",
        "\n",
        "dataloader = DataLoader(dataset, batch_size=32, pin_memory=True, num_workers=4)"
      ],
      "metadata": {
        "colab": {
          "base_uri": "https://localhost:8080/"
        },
        "id": "g8P6BihDafPL",
        "outputId": "7e44d524-9be7-4974-a568-ecdf62d2465e"
      },
      "execution_count": 17,
      "outputs": [
        {
          "output_type": "stream",
          "name": "stderr",
          "text": [
            "/usr/local/lib/python3.10/dist-packages/torch/utils/data/dataloader.py:560: UserWarning: This DataLoader will create 4 worker processes in total. Our suggested max number of worker in current system is 2, which is smaller than what this DataLoader is going to create. Please be aware that excessive worker creation might get DataLoader running slow or even freeze, lower the worker number to avoid potential slowness/freeze if necessary.\n",
            "  warnings.warn(_create_warning_msg(\n"
          ]
        }
      ]
    },
    {
      "cell_type": "markdown",
      "source": [
        "이제 학습시켜볼까요?? 적당한 옵티마이저, 스케쥴러를 이용해 우리가 가지고 있는 챗봇과의 대화를 학습시킵시다.\n",
        "\n",
        "우리의 데이터셋은 사람과 모델의 대화를 이어 하나의 샘플로 제공해주기 때문에 대화의 첫 단어 부터 다음 단어, 그 다음 단어를 예측하도록 causalLM(순서대로 다음 단어를 예측하는 언어모델)의 GPT2LMHead 모델을 가져와 줍니다. (GPT2에 다음 단어를 예측하는 head를 붙인 모델이라는 뜻입니다. 체크포인트(skt/kogpt2-base-v2)를 지정하면 skt에서 올려놓은 모델을 불러옵니다. )\n",
        "\n",
        "gpt에 input과 output으로 같은 문장을 넣어주면 gpt는 '각 위치의 다음단어를 예측한 확률 오차(nllLoss)'를 계산해 평균을 내줍니다. 이 오차가 0이 되도록 학습한 언어모델을 auto-regressive LM이라고도 부릅니다."
      ],
      "metadata": {
        "id": "eLq9XLeK_mho"
      }
    },
    {
      "cell_type": "code",
      "source": [
        "# @title\n",
        "device = torch.device(\"cuda\" if torch.cuda.is_available() else \"cpu\")\n",
        "kogpt2.to(device)\n",
        "kogpt2.train()\n",
        "\n",
        "optimizer = AdamW(kogpt2.parameters(), lr=0.001)\n",
        "# warmup_step 부터 서서히 학습률이 감소하는 linear 스케쥴링을 가합니다.\n",
        "scheduler = get_linear_schedule_with_warmup(\n",
        "    optimizer, num_warmup_steps=1000, num_training_steps=-1\n",
        ")\n",
        "\n",
        "EPOCHS = 10\n",
        "for epoch in range(EPOCHS):\n",
        "  print(f\"Training epoch {epoch+1}:\")\n",
        "\n",
        "  for text in tqdm(dataloader):\n",
        "    input = text.to(device)\n",
        "    output = kogpt2(input_ids=input, labels=input)\n",
        "    loss = output.loss # causal LM의 Loss를 간단하게 구해줍니다. (auto-regressive LM)\n",
        "\n",
        "    optimizer.zero_grad()\n",
        "    kogpt2.zero_grad()\n",
        "    loss.backward()\n",
        "\n",
        "    optimizer.step()\n",
        "    scheduler.step()\n",
        "\n",
        "  print(f\"epoch {epoch+1} loss : {loss.item()}\")"
      ],
      "metadata": {
        "colab": {
          "base_uri": "https://localhost:8080/"
        },
        "id": "k8Mws3rvfXn2",
        "outputId": "0d6dd090-662c-4475-b92c-ba195afae2ed"
      },
      "execution_count": 18,
      "outputs": [
        {
          "output_type": "stream",
          "name": "stderr",
          "text": [
            "/usr/local/lib/python3.10/dist-packages/transformers/optimization.py:411: FutureWarning: This implementation of AdamW is deprecated and will be removed in a future version. Use the PyTorch implementation torch.optim.AdamW instead, or set `no_deprecation_warning=True` to disable this warning\n",
            "  warnings.warn(\n"
          ]
        },
        {
          "output_type": "stream",
          "name": "stdout",
          "text": [
            "Training epoch 1:\n"
          ]
        },
        {
          "output_type": "stream",
          "name": "stderr",
          "text": [
            "100%|██████████| 370/370 [02:59<00:00,  2.06it/s]\n"
          ]
        },
        {
          "output_type": "stream",
          "name": "stdout",
          "text": [
            "epoch 1 loss : 1.6367892026901245\n",
            "Training epoch 2:\n"
          ]
        },
        {
          "output_type": "stream",
          "name": "stderr",
          "text": [
            "100%|██████████| 370/370 [02:57<00:00,  2.09it/s]\n"
          ]
        },
        {
          "output_type": "stream",
          "name": "stdout",
          "text": [
            "epoch 2 loss : 1.3799129724502563\n",
            "Training epoch 3:\n"
          ]
        },
        {
          "output_type": "stream",
          "name": "stderr",
          "text": [
            "100%|██████████| 370/370 [02:57<00:00,  2.09it/s]\n"
          ]
        },
        {
          "output_type": "stream",
          "name": "stdout",
          "text": [
            "epoch 3 loss : 2.94122314453125\n",
            "Training epoch 4:\n"
          ]
        },
        {
          "output_type": "stream",
          "name": "stderr",
          "text": [
            "100%|██████████| 370/370 [02:56<00:00,  2.09it/s]\n"
          ]
        },
        {
          "output_type": "stream",
          "name": "stdout",
          "text": [
            "epoch 4 loss : 2.9384055137634277\n",
            "Training epoch 5:\n"
          ]
        },
        {
          "output_type": "stream",
          "name": "stderr",
          "text": [
            "100%|██████████| 370/370 [02:56<00:00,  2.10it/s]\n"
          ]
        },
        {
          "output_type": "stream",
          "name": "stdout",
          "text": [
            "epoch 5 loss : 2.9449503421783447\n",
            "Training epoch 6:\n"
          ]
        },
        {
          "output_type": "stream",
          "name": "stderr",
          "text": [
            "100%|██████████| 370/370 [02:56<00:00,  2.10it/s]\n"
          ]
        },
        {
          "output_type": "stream",
          "name": "stdout",
          "text": [
            "epoch 6 loss : 2.9342434406280518\n",
            "Training epoch 7:\n"
          ]
        },
        {
          "output_type": "stream",
          "name": "stderr",
          "text": [
            "100%|██████████| 370/370 [02:56<00:00,  2.10it/s]\n"
          ]
        },
        {
          "output_type": "stream",
          "name": "stdout",
          "text": [
            "epoch 7 loss : 2.9452927112579346\n",
            "Training epoch 8:\n"
          ]
        },
        {
          "output_type": "stream",
          "name": "stderr",
          "text": [
            "100%|██████████| 370/370 [02:56<00:00,  2.10it/s]\n"
          ]
        },
        {
          "output_type": "stream",
          "name": "stdout",
          "text": [
            "epoch 8 loss : 2.9372947216033936\n",
            "Training epoch 9:\n"
          ]
        },
        {
          "output_type": "stream",
          "name": "stderr",
          "text": [
            "100%|██████████| 370/370 [02:56<00:00,  2.10it/s]\n"
          ]
        },
        {
          "output_type": "stream",
          "name": "stdout",
          "text": [
            "epoch 9 loss : 2.951740264892578\n",
            "Training epoch 10:\n"
          ]
        },
        {
          "output_type": "stream",
          "name": "stderr",
          "text": [
            "100%|██████████| 370/370 [02:56<00:00,  2.10it/s]"
          ]
        },
        {
          "output_type": "stream",
          "name": "stdout",
          "text": [
            "epoch 10 loss : 2.9423770904541016\n"
          ]
        },
        {
          "output_type": "stream",
          "name": "stderr",
          "text": [
            "\n"
          ]
        }
      ]
    },
    {
      "cell_type": "code",
      "source": [
        "from google.colab import drive\n",
        "drive.mount('/content/drive')"
      ],
      "metadata": {
        "colab": {
          "base_uri": "https://localhost:8080/"
        },
        "id": "vhIRIc_O3SWy",
        "outputId": "e8880848-bb06-4569-e6d9-297fb264571a"
      },
      "execution_count": 2,
      "outputs": [
        {
          "output_type": "stream",
          "name": "stdout",
          "text": [
            "Mounted at /content/drive\n"
          ]
        }
      ]
    },
    {
      "cell_type": "markdown",
      "source": [
        "( 10에폭은 gpt를 학습시키기에 충분한 에폭 수는 아닙니다. 그렇지만 학습 시간이 꽤 길어 10에폭만 학습시키고 실험해보겠습니다!  )"
      ],
      "metadata": {
        "id": "WH30FtBGCwCg"
      }
    },
    {
      "cell_type": "code",
      "source": [
        "prompts = \"썸녀에게 만나자고 물어볼까?\"\n",
        "\n",
        "kogpt2.eval()\n",
        "\n",
        "tokenized_prompt = tokenizer(\"[BOS]\" + prompts + \"[SEP]\", return_tensors=\"pt\")['input_ids'].to(device)\n",
        "\n",
        "gen_ids = kogpt2.generate(\n",
        "            tokenized_prompt,\n",
        "            max_length=53,\n",
        "            repetition_penalty=2.0,\n",
        "            pad_token_id=tokenizer.pad_token_id,\n",
        "            eos_token_id=tokenizer.eos_token_id,\n",
        "            bos_token_id=tokenizer.bos_token_id,\n",
        "            use_cache=True,\n",
        "            do_sample=True,\n",
        "        )\n",
        "\n",
        "sentence = tokenizer.decode(gen_ids[0])\n",
        "\n",
        "# 챗봇의 대답부분을 자르고 unkown token을 제거합니다.\n",
        "if \"[EOS]\" in sentence:\n",
        "  sentence = sentence[sentence.index(\"[SEP]\") + 5 : sentence.index(\"[EOS]\")]\n",
        "else:\n",
        "  sentence = sentence[sentence.index(\"[SEP]\") + 5 :]\n",
        "\n",
        "sentence = sentence.replace(\"<unk>\", \" \").split(\"\\n\")[0]\n",
        "\n",
        "print(prompts)\n",
        "print(\"사랑꾼 심심이 👶🏻 :\", sentence)"
      ],
      "metadata": {
        "colab": {
          "base_uri": "https://localhost:8080/"
        },
        "id": "zh5jth5WU6CW",
        "outputId": "396ae6e1-85f9-4042-847f-9063a73b39d3"
      },
      "execution_count": 19,
      "outputs": [
        {
          "output_type": "stream",
          "name": "stdout",
          "text": [
            "썸녀에게 만나자고 물어볼까?\n",
            "사랑꾼 심심이 👶🏻 : \n"
          ]
        }
      ]
    },
    {
      "cell_type": "markdown",
      "source": [
        "\n",
        "\n",
        "수고 많으셨습니다!! 과제는 학습시킨 챗봇에게 질문하고 얻은 답변을 아래 처럼 캡쳐해서 올려주세요.\n",
        "\n",
        "![Screenshot 2023-07-31 at 7.48.49 AM.png](data:image/png;base64,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)\n",
        "\n",
        "쉽지 않은 내용이지만 집중해서 들어주셔서 감사하고 모두 수고 많으셨습니다🙇‍♂️"
      ],
      "metadata": {
        "id": "v-VjL_-l-wDw"
      }
    }
  ]
}
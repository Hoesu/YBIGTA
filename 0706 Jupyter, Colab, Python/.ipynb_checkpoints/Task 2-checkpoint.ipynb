{
 "cells": [
  {
   "cell_type": "markdown",
   "id": "a0aa295c",
   "metadata": {},
   "source": [
    "## 과제 2"
   ]
  },
  {
   "cell_type": "code",
   "execution_count": 4,
   "id": "071bd7f0",
   "metadata": {},
   "outputs": [],
   "source": [
    "from math import sqrt\n",
    "\n",
    "class Point:\n",
    "\n",
    "  def __init__(self,x,y):\n",
    "    self.x = x\n",
    "    self.y = y\n",
    "\n",
    "  def set_point(self,x,y):\n",
    "    self.x = x\n",
    "    self.y = y\n",
    "\n",
    "  def get_point(self):\n",
    "    print(\"x: {}, y: {}\".format(self.x, self.y))\n",
    "\n",
    "  def get_dist(self,point):\n",
    "    return sqrt( (self.x - point.x) **2 + (self.y - point.y) **2 )\n",
    "\n",
    "  def __str__(self):\n",
    "    return \"x: {}, y: {}\".format(self.x, self.y)"
   ]
  },
  {
   "cell_type": "markdown",
   "id": "d39caa8a",
   "metadata": {},
   "source": [
    "테스트"
   ]
  },
  {
   "cell_type": "code",
   "execution_count": 2,
   "id": "d101efa9",
   "metadata": {},
   "outputs": [
    {
     "name": "stdout",
     "output_type": "stream",
     "text": [
      "x: 1, y: 2\n",
      "x: 10, y: 20\n",
      "17.46424919657298\n",
      "x: 10, y: 20\n",
      "x: 3, y: 4\n"
     ]
    }
   ],
   "source": [
    "# 출력\n",
    "# x: 1, y: 2\n",
    "p1 = Point(1, 2)\n",
    "p1.get_point()\n",
    "\n",
    "# 출력\n",
    "# x: 10, y: 20\n",
    "p1.set_point(10,20)\n",
    "p1.get_point()\n",
    "\n",
    "# (10, 20)과 (3, 4)의 유클리디안 거리를 계산해주세요\n",
    "p2 = Point(3, 4)\n",
    "print(p1.get_dist(p2))\n",
    "\n",
    "print(p1)\n",
    "print(p2)"
   ]
  }
 ],
 "metadata": {
  "kernelspec": {
   "display_name": "Python 3 (ipykernel)",
   "language": "python",
   "name": "python3"
  },
  "language_info": {
   "codemirror_mode": {
    "name": "ipython",
    "version": 3
   },
   "file_extension": ".py",
   "mimetype": "text/x-python",
   "name": "python",
   "nbconvert_exporter": "python",
   "pygments_lexer": "ipython3",
   "version": "3.9.12"
  }
 },
 "nbformat": 4,
 "nbformat_minor": 5
}
